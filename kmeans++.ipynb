{
 "cells": [
  {
   "cell_type": "code",
   "execution_count": null,
   "metadata": {},
   "outputs": [],
   "source": [
    "import numpy as np\n",
    "import pandas as pd\n",
    "import matplotlib.pyplot as plt\n",
    "import sys"
   ]
  },
  {
   "cell_type": "code",
   "execution_count": null,
   "metadata": {},
   "outputs": [],
   "source": [
    "df = pd.read_csv('./RGB.csv')\n",
    "df.head()"
   ]
  },
  {
   "attachments": {},
   "cell_type": "markdown",
   "metadata": {},
   "source": [
    "Function to plot the selected centroids"
   ]
  },
  {
   "cell_type": "code",
   "execution_count": null,
   "metadata": {},
   "outputs": [],
   "source": [
    "def plot(data, centroids):\n",
    "    plt.scatter(data[:,0], data[:,1], data[:,2], marker = '.', \n",
    "                 color = 'gray', label = 'data points')\n",
    "    plt.scatter(centroids[:-1,0], centroids[:-1,1], centroids[:-1,2]\n",
    "                color = 'black', label = 'previously selected centroid')\n",
    "    plt.scatter(centroids[-1,0], centroids[-1,1], centroids[-1,2]\n",
    "                color = 'red', label = 'next centroid')\n",
    "    plt.title('Select %d th centroid'%(centroids.shape[0]))\n",
    "\n",
    "    plt.legend()\n",
    "    plt.xlim(0,256)\n",
    "    plt.ylim(0,256)\n",
    "    plt.show()"
   ]
  },
  {
   "attachments": {},
   "cell_type": "markdown",
   "metadata": {},
   "source": [
    "Function to compute color distance"
   ]
  },
  {
   "cell_type": "code",
   "execution_count": null,
   "metadata": {},
   "outputs": [],
   "source": [
    "def RGB_distances(x, y):\n",
    "    # print(y)\n",
    "    # print(len(y))\n",
    "    dis = np.zeros((x.shape[0], len(y)))\n",
    "    # print(dis)\n",
    "    print(x[0])\n",
    "    print(y[0])\n",
    "    for i in range(x.shape[0]):\n",
    "            for j in range(len(y)):\n",
    "                R_avg = (x[i,0]-y[j][0])/2\n",
    "                if(R_avg < 128): \n",
    "                    dis[i,j] = np.sqrt(2*np.power(x[i,0]-y[j][0],2) + 4*np.power(x[i,1]-y[j][1],2) + 3*np.power(x[i,2]-y[j][2],2))\n",
    "                else:\n",
    "                    dis[i,j] = np.sqrt(3*np.power(x[i,0]-y[j][0],2) + 4*np.power(x[i,1]-y[j][1],2) + 2*np.power(x[i,2]-y[j][2],2))\n",
    "    return dis"
   ]
  },
  {
   "attachments": {},
   "cell_type": "markdown",
   "metadata": {},
   "source": [
    "Initialization algorithm"
   ]
  },
  {
   "cell_type": "code",
   "execution_count": null,
   "metadata": {},
   "outputs": [],
   "source": [
    "def initialize(data, k):\n",
    "    '''\n",
    "    inputs:\n",
    "        data - numpy array of data points having shape (200,2)\n",
    "        k - number of clusters\n",
    "    '''\n",
    "    centroids = []\n",
    "    centroids.append(data[np.random.randint(data.shape[0]),:])\n",
    "    plot(data, np.array(centroids))\n",
    "    #print(len(centroids))\n",
    "    # print(centroids[0][0])\n",
    "    # minus = data[0,0]-centroids[0][0]\n",
    "    # print(minus)\n",
    "\n",
    "    for c_id in range(k-1):\n",
    "        # initialize a list to store distance of data\n",
    "        dist = []\n",
    "\n",
    "        for i in range(data.shape[0]):\n",
    "            point = data[i,:]\n",
    "            d = sys.maxsize\n",
    "\n",
    "            # compute distance of 'point' from each of the previous centroids\n",
    "            # selected centroid and store the minimum distance\n",
    "            for j in range(len(centroids)):\n",
    "                temp_dist = RGB_distances(point, centroids[j])\n",
    "                d = min(d, temp_dist)\n",
    "            dist.append(d)\n",
    "        \n",
    "        # select data point with maximum distance as our next centroid\n",
    "        dist = np.array(dist)\n",
    "        next_centroid = data[np.argmax(dist),:]\n",
    "        centroids.append(next_centroid)\n",
    "        dist = []\n",
    "        plot(data,np.array(centroids))\n",
    "    return centroids\n",
    "\n",
    "data = df.values\n",
    "centroids = initialize(data, k=4)"
   ]
  }
 ],
 "metadata": {
  "kernelspec": {
   "display_name": "Python 3",
   "language": "python",
   "name": "python3"
  },
  "language_info": {
   "codemirror_mode": {
    "name": "ipython",
    "version": 3
   },
   "file_extension": ".py",
   "mimetype": "text/x-python",
   "name": "python",
   "nbconvert_exporter": "python",
   "pygments_lexer": "ipython3",
   "version": "3.9.13"
  },
  "orig_nbformat": 4
 },
 "nbformat": 4,
 "nbformat_minor": 2
}
